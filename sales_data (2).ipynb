{
  "metadata": {
    "language_info": {
      "codemirror_mode": {
        "name": "python",
        "version": 3
      },
      "file_extension": ".py",
      "mimetype": "text/x-python",
      "name": "python",
      "nbconvert_exporter": "python",
      "pygments_lexer": "ipython3",
      "version": "3.8"
    },
    "kernelspec": {
      "name": "python",
      "display_name": "Python (Pyodide)",
      "language": "python"
    }
  },
  "nbformat_minor": 4,
  "nbformat": 4,
  "cells": [
    {
      "cell_type": "markdown",
      "source": "## PANDAS EXERCISE",
      "metadata": {}
    },
    {
      "cell_type": "markdown",
      "source": "There is a client who major in the sales of food items and would like to determine parameter for future prediction (This is on a demand). Below are the parameters to be determined based on the data set provided",
      "metadata": {}
    },
    {
      "cell_type": "code",
      "source": "import pandas as pd \nimport numpy as np",
      "metadata": {
        "trusted": true
      },
      "execution_count": 1,
      "outputs": []
    },
    {
      "cell_type": "code",
      "source": "df = pd.read_csv('sales.csv')\ndf",
      "metadata": {
        "trusted": true
      },
      "execution_count": 2,
      "outputs": [
        {
          "execution_count": 2,
          "output_type": "execute_result",
          "data": {
            "text/plain": "     order_id  quantity            item_name  \\\n0           1         1                 Izze   \n1           1         1     Nantucket Nectar   \n2           2         2         Chicken Bowl   \n3           3         1         Chicken Bowl   \n4           4         1        Steak Burrito   \n..        ...       ...                  ...   \n195       115         1        Steak Burrito   \n196       116         1     Steak Soft Tacos   \n197       117         1  Barbacoa Soft Tacos   \n198       118         1      Chicken Burrito   \n199       119         1      Chicken Burrito   \n\n                                    choice_description item_price  \n0                                         [Clementine]     $3.39   \n1                                              [Apple]     $3.39   \n2    [Tomatillo-Red Chili Salsa (Hot), [Black Beans...    $16.98   \n3    [Fresh Tomato Salsa (Mild), [Rice, Cheese, Sou...    $10.98   \n4    [Tomatillo Red Chili Salsa, [Fajita Vegetables...    $11.75   \n..                                                 ...        ...  \n195  [Roasted Chili Corn Salsa (Medium), [Black Bea...     $8.99   \n196      [Fresh Tomato Salsa, [Rice, Cheese, Lettuce]]     $9.25   \n197  [Tomatillo-Red Chili Salsa (Hot), [Pinto Beans...     $8.99   \n198  [Tomatillo-Green Chili Salsa (Medium), [Pinto ...     $8.49   \n199  [[Fresh Tomato Salsa (Mild), Roasted Chili Cor...     $8.49   \n\n[200 rows x 5 columns]",
            "text/html": "<div>\n<style scoped>\n    .dataframe tbody tr th:only-of-type {\n        vertical-align: middle;\n    }\n\n    .dataframe tbody tr th {\n        vertical-align: top;\n    }\n\n    .dataframe thead th {\n        text-align: right;\n    }\n</style>\n<table border=\"1\" class=\"dataframe\">\n  <thead>\n    <tr style=\"text-align: right;\">\n      <th></th>\n      <th>order_id</th>\n      <th>quantity</th>\n      <th>item_name</th>\n      <th>choice_description</th>\n      <th>item_price</th>\n    </tr>\n  </thead>\n  <tbody>\n    <tr>\n      <th>0</th>\n      <td>1</td>\n      <td>1</td>\n      <td>Izze</td>\n      <td>[Clementine]</td>\n      <td>$3.39</td>\n    </tr>\n    <tr>\n      <th>1</th>\n      <td>1</td>\n      <td>1</td>\n      <td>Nantucket Nectar</td>\n      <td>[Apple]</td>\n      <td>$3.39</td>\n    </tr>\n    <tr>\n      <th>2</th>\n      <td>2</td>\n      <td>2</td>\n      <td>Chicken Bowl</td>\n      <td>[Tomatillo-Red Chili Salsa (Hot), [Black Beans...</td>\n      <td>$16.98</td>\n    </tr>\n    <tr>\n      <th>3</th>\n      <td>3</td>\n      <td>1</td>\n      <td>Chicken Bowl</td>\n      <td>[Fresh Tomato Salsa (Mild), [Rice, Cheese, Sou...</td>\n      <td>$10.98</td>\n    </tr>\n    <tr>\n      <th>4</th>\n      <td>4</td>\n      <td>1</td>\n      <td>Steak Burrito</td>\n      <td>[Tomatillo Red Chili Salsa, [Fajita Vegetables...</td>\n      <td>$11.75</td>\n    </tr>\n    <tr>\n      <th>...</th>\n      <td>...</td>\n      <td>...</td>\n      <td>...</td>\n      <td>...</td>\n      <td>...</td>\n    </tr>\n    <tr>\n      <th>195</th>\n      <td>115</td>\n      <td>1</td>\n      <td>Steak Burrito</td>\n      <td>[Roasted Chili Corn Salsa (Medium), [Black Bea...</td>\n      <td>$8.99</td>\n    </tr>\n    <tr>\n      <th>196</th>\n      <td>116</td>\n      <td>1</td>\n      <td>Steak Soft Tacos</td>\n      <td>[Fresh Tomato Salsa, [Rice, Cheese, Lettuce]]</td>\n      <td>$9.25</td>\n    </tr>\n    <tr>\n      <th>197</th>\n      <td>117</td>\n      <td>1</td>\n      <td>Barbacoa Soft Tacos</td>\n      <td>[Tomatillo-Red Chili Salsa (Hot), [Pinto Beans...</td>\n      <td>$8.99</td>\n    </tr>\n    <tr>\n      <th>198</th>\n      <td>118</td>\n      <td>1</td>\n      <td>Chicken Burrito</td>\n      <td>[Tomatillo-Green Chili Salsa (Medium), [Pinto ...</td>\n      <td>$8.49</td>\n    </tr>\n    <tr>\n      <th>199</th>\n      <td>119</td>\n      <td>1</td>\n      <td>Chicken Burrito</td>\n      <td>[[Fresh Tomato Salsa (Mild), Roasted Chili Cor...</td>\n      <td>$8.49</td>\n    </tr>\n  </tbody>\n</table>\n<p>200 rows × 5 columns</p>\n</div>"
          },
          "metadata": {}
        }
      ]
    },
    {
      "cell_type": "code",
      "source": "df.head(10)",
      "metadata": {
        "trusted": true
      },
      "execution_count": 41,
      "outputs": [
        {
          "execution_count": 41,
          "output_type": "execute_result",
          "data": {
            "text/plain": "   order_id  quantity             item_name  \\\n0         1         1                  Izze   \n1         1         1      Nantucket Nectar   \n2         2         2          Chicken Bowl   \n3         3         1          Chicken Bowl   \n4         4         1         Steak Burrito   \n5         4         1      Steak Soft Tacos   \n6         5         1         Steak Burrito   \n7         6         1  Chicken Crispy Tacos   \n8         6         1    Chicken Soft Tacos   \n9         7         1          Chicken Bowl   \n\n                                  choice_description item_price  \n0                                       [Clementine]     $3.39   \n1                                            [Apple]     $3.39   \n2  [Tomatillo-Red Chili Salsa (Hot), [Black Beans...    $16.98   \n3  [Fresh Tomato Salsa (Mild), [Rice, Cheese, Sou...    $10.98   \n4  [Tomatillo Red Chili Salsa, [Fajita Vegetables...    $11.75   \n5  [Tomatillo Green Chili Salsa, [Pinto Beans, Ch...     $9.25   \n6  [Fresh Tomato Salsa, [Rice, Black Beans, Pinto...     $9.25   \n7  [Roasted Chili Corn Salsa, [Fajita Vegetables,...     $8.75   \n8  [Roasted Chili Corn Salsa, [Rice, Black Beans,...     $8.75   \n9  [Fresh Tomato Salsa, [Fajita Vegetables, Rice,...    $11.25   ",
            "text/html": "<div>\n<style scoped>\n    .dataframe tbody tr th:only-of-type {\n        vertical-align: middle;\n    }\n\n    .dataframe tbody tr th {\n        vertical-align: top;\n    }\n\n    .dataframe thead th {\n        text-align: right;\n    }\n</style>\n<table border=\"1\" class=\"dataframe\">\n  <thead>\n    <tr style=\"text-align: right;\">\n      <th></th>\n      <th>order_id</th>\n      <th>quantity</th>\n      <th>item_name</th>\n      <th>choice_description</th>\n      <th>item_price</th>\n    </tr>\n  </thead>\n  <tbody>\n    <tr>\n      <th>0</th>\n      <td>1</td>\n      <td>1</td>\n      <td>Izze</td>\n      <td>[Clementine]</td>\n      <td>$3.39</td>\n    </tr>\n    <tr>\n      <th>1</th>\n      <td>1</td>\n      <td>1</td>\n      <td>Nantucket Nectar</td>\n      <td>[Apple]</td>\n      <td>$3.39</td>\n    </tr>\n    <tr>\n      <th>2</th>\n      <td>2</td>\n      <td>2</td>\n      <td>Chicken Bowl</td>\n      <td>[Tomatillo-Red Chili Salsa (Hot), [Black Beans...</td>\n      <td>$16.98</td>\n    </tr>\n    <tr>\n      <th>3</th>\n      <td>3</td>\n      <td>1</td>\n      <td>Chicken Bowl</td>\n      <td>[Fresh Tomato Salsa (Mild), [Rice, Cheese, Sou...</td>\n      <td>$10.98</td>\n    </tr>\n    <tr>\n      <th>4</th>\n      <td>4</td>\n      <td>1</td>\n      <td>Steak Burrito</td>\n      <td>[Tomatillo Red Chili Salsa, [Fajita Vegetables...</td>\n      <td>$11.75</td>\n    </tr>\n    <tr>\n      <th>5</th>\n      <td>4</td>\n      <td>1</td>\n      <td>Steak Soft Tacos</td>\n      <td>[Tomatillo Green Chili Salsa, [Pinto Beans, Ch...</td>\n      <td>$9.25</td>\n    </tr>\n    <tr>\n      <th>6</th>\n      <td>5</td>\n      <td>1</td>\n      <td>Steak Burrito</td>\n      <td>[Fresh Tomato Salsa, [Rice, Black Beans, Pinto...</td>\n      <td>$9.25</td>\n    </tr>\n    <tr>\n      <th>7</th>\n      <td>6</td>\n      <td>1</td>\n      <td>Chicken Crispy Tacos</td>\n      <td>[Roasted Chili Corn Salsa, [Fajita Vegetables,...</td>\n      <td>$8.75</td>\n    </tr>\n    <tr>\n      <th>8</th>\n      <td>6</td>\n      <td>1</td>\n      <td>Chicken Soft Tacos</td>\n      <td>[Roasted Chili Corn Salsa, [Rice, Black Beans,...</td>\n      <td>$8.75</td>\n    </tr>\n    <tr>\n      <th>9</th>\n      <td>7</td>\n      <td>1</td>\n      <td>Chicken Bowl</td>\n      <td>[Fresh Tomato Salsa, [Fajita Vegetables, Rice,...</td>\n      <td>$11.25</td>\n    </tr>\n  </tbody>\n</table>\n</div>"
          },
          "metadata": {}
        }
      ]
    },
    {
      "cell_type": "code",
      "source": "#using shape attribute to know how many rows and columns of the dataset\ndf.shape",
      "metadata": {
        "trusted": true
      },
      "execution_count": 42,
      "outputs": [
        {
          "execution_count": 42,
          "output_type": "execute_result",
          "data": {
            "text/plain": "(200, 5)"
          },
          "metadata": {}
        }
      ]
    },
    {
      "cell_type": "code",
      "source": "# presenting the columns of the dataset\ndf.columns",
      "metadata": {
        "trusted": true
      },
      "execution_count": 43,
      "outputs": [
        {
          "execution_count": 43,
          "output_type": "execute_result",
          "data": {
            "text/plain": "Index(['order_id', 'quantity', 'item_name', 'choice_description',\n       'item_price'],\n      dtype='object')"
          },
          "metadata": {}
        }
      ]
    },
    {
      "cell_type": "code",
      "source": "# a concise summary of the dataset\ndf.info()",
      "metadata": {
        "trusted": true
      },
      "execution_count": 13,
      "outputs": [
        {
          "name": "stdout",
          "text": "<class 'pandas.core.frame.DataFrame'>\nRangeIndex: 200 entries, 0 to 199\nData columns (total 5 columns):\n #   Column              Non-Null Count  Dtype \n---  ------              --------------  ----- \n 0   order_id            200 non-null    int64 \n 1   quantity            200 non-null    int64 \n 2   item_name           200 non-null    object\n 3   choice_description  200 non-null    object\n 4   item_price          200 non-null    object\ndtypes: int64(2), object(3)\nmemory usage: 5.5+ KB\n",
          "output_type": "stream"
        }
      ]
    },
    {
      "cell_type": "code",
      "source": "# checking missing values\ndf.isnull().sum()",
      "metadata": {
        "trusted": true
      },
      "execution_count": 14,
      "outputs": [
        {
          "execution_count": 14,
          "output_type": "execute_result",
          "data": {
            "text/plain": "order_id              0\nquantity              0\nitem_name             0\nchoice_description    0\nitem_price            0\ndtype: int64"
          },
          "metadata": {}
        }
      ]
    },
    {
      "cell_type": "code",
      "source": "# getting descriptive statistics summary\ndf.describe()",
      "metadata": {
        "trusted": true
      },
      "execution_count": 44,
      "outputs": [
        {
          "execution_count": 44,
          "output_type": "execute_result",
          "data": {
            "text/plain": "         order_id    quantity\ncount  200.000000  200.000000\nmean    62.025000    1.060000\nstd     34.527163    0.238083\nmin      1.000000    1.000000\n25%     30.750000    1.000000\n50%     64.500000    1.000000\n75%     92.250000    1.000000\nmax    119.000000    2.000000",
            "text/html": "<div>\n<style scoped>\n    .dataframe tbody tr th:only-of-type {\n        vertical-align: middle;\n    }\n\n    .dataframe tbody tr th {\n        vertical-align: top;\n    }\n\n    .dataframe thead th {\n        text-align: right;\n    }\n</style>\n<table border=\"1\" class=\"dataframe\">\n  <thead>\n    <tr style=\"text-align: right;\">\n      <th></th>\n      <th>order_id</th>\n      <th>quantity</th>\n    </tr>\n  </thead>\n  <tbody>\n    <tr>\n      <th>count</th>\n      <td>200.000000</td>\n      <td>200.000000</td>\n    </tr>\n    <tr>\n      <th>mean</th>\n      <td>62.025000</td>\n      <td>1.060000</td>\n    </tr>\n    <tr>\n      <th>std</th>\n      <td>34.527163</td>\n      <td>0.238083</td>\n    </tr>\n    <tr>\n      <th>min</th>\n      <td>1.000000</td>\n      <td>1.000000</td>\n    </tr>\n    <tr>\n      <th>25%</th>\n      <td>30.750000</td>\n      <td>1.000000</td>\n    </tr>\n    <tr>\n      <th>50%</th>\n      <td>64.500000</td>\n      <td>1.000000</td>\n    </tr>\n    <tr>\n      <th>75%</th>\n      <td>92.250000</td>\n      <td>1.000000</td>\n    </tr>\n    <tr>\n      <th>max</th>\n      <td>119.000000</td>\n      <td>2.000000</td>\n    </tr>\n  </tbody>\n</table>\n</div>"
          },
          "metadata": {}
        }
      ]
    },
    {
      "cell_type": "markdown",
      "source": "Group1 - Most of their product are either below or a bit above $10 - We are to determine the below parameters",
      "metadata": {}
    },
    {
      "cell_type": "markdown",
      "source": "1. How many products cost more than $10.00?",
      "metadata": {}
    },
    {
      "cell_type": "code",
      "source": "df['item_price'] = df['item_price'].str.replace('$', '')\ndf['item_price'] = df['item_price'].astype(float)",
      "metadata": {
        "trusted": true
      },
      "execution_count": 45,
      "outputs": [
        {
          "name": "stderr",
          "text": "<ipython-input-45-4a541ecbb8af>:1: FutureWarning: The default value of regex will change from True to False in a future version. In addition, single character regular expressions will *not* be treated as literal strings when regex=True.\n  df['item_price'] = df['item_price'].str.replace('$', '')\n",
          "output_type": "stream"
        }
      ]
    },
    {
      "cell_type": "code",
      "source": "np.count_nonzero(df.item_price>10.00)",
      "metadata": {
        "trusted": true
      },
      "execution_count": 46,
      "outputs": [
        {
          "execution_count": 46,
          "output_type": "execute_result",
          "data": {
            "text/plain": "60"
          },
          "metadata": {}
        }
      ]
    },
    {
      "cell_type": "markdown",
      "source": "2. how many products cost less than $10.00?",
      "metadata": {}
    },
    {
      "cell_type": "code",
      "source": "np.count_nonzero(df.item_price<10.00)",
      "metadata": {
        "trusted": true
      },
      "execution_count": 47,
      "outputs": [
        {
          "execution_count": 47,
          "output_type": "execute_result",
          "data": {
            "text/plain": "140"
          },
          "metadata": {}
        }
      ]
    },
    {
      "cell_type": "markdown",
      "source": "Group 2.\nWhat is the price of each item?",
      "metadata": {}
    },
    {
      "cell_type": "code",
      "source": "df = df.groupby(by = 'item_name')[['item_price']].min().reset_index()\ndf",
      "metadata": {
        "trusted": true
      },
      "execution_count": 48,
      "outputs": [
        {
          "execution_count": 48,
          "output_type": "execute_result",
          "data": {
            "text/plain": "                item_name  item_price\n0           Barbacoa Bowl        8.99\n1        Barbacoa Burrito        8.99\n2   Barbacoa Crispy Tacos        9.25\n3     Barbacoa Soft Tacos        8.99\n4             Canned Soda        1.09\n5       Canned Soft Drink        1.25\n6           Carnitas Bowl        8.99\n7        Carnitas Burrito        8.99\n8     Carnitas Soft Tacos        9.25\n9            Chicken Bowl        8.49\n10        Chicken Burrito        8.49\n11   Chicken Crispy Tacos        8.75\n12          Chicken Salad       10.98\n13     Chicken Salad Bowl        8.75\n14     Chicken Soft Tacos        8.75\n15                   Izze        3.39\n16       Nantucket Nectar        3.39\n17             Steak Bowl        8.99\n18          Steak Burrito        8.99\n19     Steak Crispy Tacos        9.25\n20       Steak Soft Tacos        8.99\n21            Veggie Bowl        8.49\n22         Veggie Burrito        8.49\n23      Veggie Salad Bowl       11.25",
            "text/html": "<div>\n<style scoped>\n    .dataframe tbody tr th:only-of-type {\n        vertical-align: middle;\n    }\n\n    .dataframe tbody tr th {\n        vertical-align: top;\n    }\n\n    .dataframe thead th {\n        text-align: right;\n    }\n</style>\n<table border=\"1\" class=\"dataframe\">\n  <thead>\n    <tr style=\"text-align: right;\">\n      <th></th>\n      <th>item_name</th>\n      <th>item_price</th>\n    </tr>\n  </thead>\n  <tbody>\n    <tr>\n      <th>0</th>\n      <td>Barbacoa Bowl</td>\n      <td>8.99</td>\n    </tr>\n    <tr>\n      <th>1</th>\n      <td>Barbacoa Burrito</td>\n      <td>8.99</td>\n    </tr>\n    <tr>\n      <th>2</th>\n      <td>Barbacoa Crispy Tacos</td>\n      <td>9.25</td>\n    </tr>\n    <tr>\n      <th>3</th>\n      <td>Barbacoa Soft Tacos</td>\n      <td>8.99</td>\n    </tr>\n    <tr>\n      <th>4</th>\n      <td>Canned Soda</td>\n      <td>1.09</td>\n    </tr>\n    <tr>\n      <th>5</th>\n      <td>Canned Soft Drink</td>\n      <td>1.25</td>\n    </tr>\n    <tr>\n      <th>6</th>\n      <td>Carnitas Bowl</td>\n      <td>8.99</td>\n    </tr>\n    <tr>\n      <th>7</th>\n      <td>Carnitas Burrito</td>\n      <td>8.99</td>\n    </tr>\n    <tr>\n      <th>8</th>\n      <td>Carnitas Soft Tacos</td>\n      <td>9.25</td>\n    </tr>\n    <tr>\n      <th>9</th>\n      <td>Chicken Bowl</td>\n      <td>8.49</td>\n    </tr>\n    <tr>\n      <th>10</th>\n      <td>Chicken Burrito</td>\n      <td>8.49</td>\n    </tr>\n    <tr>\n      <th>11</th>\n      <td>Chicken Crispy Tacos</td>\n      <td>8.75</td>\n    </tr>\n    <tr>\n      <th>12</th>\n      <td>Chicken Salad</td>\n      <td>10.98</td>\n    </tr>\n    <tr>\n      <th>13</th>\n      <td>Chicken Salad Bowl</td>\n      <td>8.75</td>\n    </tr>\n    <tr>\n      <th>14</th>\n      <td>Chicken Soft Tacos</td>\n      <td>8.75</td>\n    </tr>\n    <tr>\n      <th>15</th>\n      <td>Izze</td>\n      <td>3.39</td>\n    </tr>\n    <tr>\n      <th>16</th>\n      <td>Nantucket Nectar</td>\n      <td>3.39</td>\n    </tr>\n    <tr>\n      <th>17</th>\n      <td>Steak Bowl</td>\n      <td>8.99</td>\n    </tr>\n    <tr>\n      <th>18</th>\n      <td>Steak Burrito</td>\n      <td>8.99</td>\n    </tr>\n    <tr>\n      <th>19</th>\n      <td>Steak Crispy Tacos</td>\n      <td>9.25</td>\n    </tr>\n    <tr>\n      <th>20</th>\n      <td>Steak Soft Tacos</td>\n      <td>8.99</td>\n    </tr>\n    <tr>\n      <th>21</th>\n      <td>Veggie Bowl</td>\n      <td>8.49</td>\n    </tr>\n    <tr>\n      <th>22</th>\n      <td>Veggie Burrito</td>\n      <td>8.49</td>\n    </tr>\n    <tr>\n      <th>23</th>\n      <td>Veggie Salad Bowl</td>\n      <td>11.25</td>\n    </tr>\n  </tbody>\n</table>\n</div>"
          },
          "metadata": {}
        }
      ]
    },
    {
      "cell_type": "markdown",
      "source": "sort by the name of the item",
      "metadata": {}
    },
    {
      "cell_type": "code",
      "source": "df.sort_values(by = 'item_name',ascending=True).reset_index(drop=True)",
      "metadata": {
        "trusted": true
      },
      "execution_count": 49,
      "outputs": [
        {
          "execution_count": 49,
          "output_type": "execute_result",
          "data": {
            "text/plain": "                item_name  item_price\n0           Barbacoa Bowl        8.99\n1        Barbacoa Burrito        8.99\n2   Barbacoa Crispy Tacos        9.25\n3     Barbacoa Soft Tacos        8.99\n4             Canned Soda        1.09\n5       Canned Soft Drink        1.25\n6           Carnitas Bowl        8.99\n7        Carnitas Burrito        8.99\n8     Carnitas Soft Tacos        9.25\n9            Chicken Bowl        8.49\n10        Chicken Burrito        8.49\n11   Chicken Crispy Tacos        8.75\n12          Chicken Salad       10.98\n13     Chicken Salad Bowl        8.75\n14     Chicken Soft Tacos        8.75\n15                   Izze        3.39\n16       Nantucket Nectar        3.39\n17             Steak Bowl        8.99\n18          Steak Burrito        8.99\n19     Steak Crispy Tacos        9.25\n20       Steak Soft Tacos        8.99\n21            Veggie Bowl        8.49\n22         Veggie Burrito        8.49\n23      Veggie Salad Bowl       11.25",
            "text/html": "<div>\n<style scoped>\n    .dataframe tbody tr th:only-of-type {\n        vertical-align: middle;\n    }\n\n    .dataframe tbody tr th {\n        vertical-align: top;\n    }\n\n    .dataframe thead th {\n        text-align: right;\n    }\n</style>\n<table border=\"1\" class=\"dataframe\">\n  <thead>\n    <tr style=\"text-align: right;\">\n      <th></th>\n      <th>item_name</th>\n      <th>item_price</th>\n    </tr>\n  </thead>\n  <tbody>\n    <tr>\n      <th>0</th>\n      <td>Barbacoa Bowl</td>\n      <td>8.99</td>\n    </tr>\n    <tr>\n      <th>1</th>\n      <td>Barbacoa Burrito</td>\n      <td>8.99</td>\n    </tr>\n    <tr>\n      <th>2</th>\n      <td>Barbacoa Crispy Tacos</td>\n      <td>9.25</td>\n    </tr>\n    <tr>\n      <th>3</th>\n      <td>Barbacoa Soft Tacos</td>\n      <td>8.99</td>\n    </tr>\n    <tr>\n      <th>4</th>\n      <td>Canned Soda</td>\n      <td>1.09</td>\n    </tr>\n    <tr>\n      <th>5</th>\n      <td>Canned Soft Drink</td>\n      <td>1.25</td>\n    </tr>\n    <tr>\n      <th>6</th>\n      <td>Carnitas Bowl</td>\n      <td>8.99</td>\n    </tr>\n    <tr>\n      <th>7</th>\n      <td>Carnitas Burrito</td>\n      <td>8.99</td>\n    </tr>\n    <tr>\n      <th>8</th>\n      <td>Carnitas Soft Tacos</td>\n      <td>9.25</td>\n    </tr>\n    <tr>\n      <th>9</th>\n      <td>Chicken Bowl</td>\n      <td>8.49</td>\n    </tr>\n    <tr>\n      <th>10</th>\n      <td>Chicken Burrito</td>\n      <td>8.49</td>\n    </tr>\n    <tr>\n      <th>11</th>\n      <td>Chicken Crispy Tacos</td>\n      <td>8.75</td>\n    </tr>\n    <tr>\n      <th>12</th>\n      <td>Chicken Salad</td>\n      <td>10.98</td>\n    </tr>\n    <tr>\n      <th>13</th>\n      <td>Chicken Salad Bowl</td>\n      <td>8.75</td>\n    </tr>\n    <tr>\n      <th>14</th>\n      <td>Chicken Soft Tacos</td>\n      <td>8.75</td>\n    </tr>\n    <tr>\n      <th>15</th>\n      <td>Izze</td>\n      <td>3.39</td>\n    </tr>\n    <tr>\n      <th>16</th>\n      <td>Nantucket Nectar</td>\n      <td>3.39</td>\n    </tr>\n    <tr>\n      <th>17</th>\n      <td>Steak Bowl</td>\n      <td>8.99</td>\n    </tr>\n    <tr>\n      <th>18</th>\n      <td>Steak Burrito</td>\n      <td>8.99</td>\n    </tr>\n    <tr>\n      <th>19</th>\n      <td>Steak Crispy Tacos</td>\n      <td>9.25</td>\n    </tr>\n    <tr>\n      <th>20</th>\n      <td>Steak Soft Tacos</td>\n      <td>8.99</td>\n    </tr>\n    <tr>\n      <th>21</th>\n      <td>Veggie Bowl</td>\n      <td>8.49</td>\n    </tr>\n    <tr>\n      <th>22</th>\n      <td>Veggie Burrito</td>\n      <td>8.49</td>\n    </tr>\n    <tr>\n      <th>23</th>\n      <td>Veggie Salad Bowl</td>\n      <td>11.25</td>\n    </tr>\n  </tbody>\n</table>\n</div>"
          },
          "metadata": {}
        }
      ]
    },
    {
      "cell_type": "markdown",
      "source": "Group 3",
      "metadata": {}
    },
    {
      "cell_type": "markdown",
      "source": "1. What was the quantity of the most expensive item ordered?",
      "metadata": {}
    },
    {
      "cell_type": "code",
      "source": "",
      "metadata": {},
      "execution_count": null,
      "outputs": []
    },
    {
      "cell_type": "markdown",
      "source": "How many times was a Chicken Burrito ordered?",
      "metadata": {}
    },
    {
      "cell_type": "code",
      "source": "df = np.count_nonzero(df.item_name == 'Chicken Burrito')\nprint(df, 'times a Chicken Burrito was ordered')",
      "metadata": {
        "trusted": true
      },
      "execution_count": 53,
      "outputs": [
        {
          "name": "stdout",
          "text": "1 times a Chicken Burrito was ordered\n",
          "output_type": "stream"
        }
      ]
    },
    {
      "cell_type": "markdown",
      "source": "How many times did someone order more than one Canned Soda? ",
      "metadata": {}
    },
    {
      "cell_type": "code",
      "source": "",
      "metadata": {},
      "execution_count": null,
      "outputs": []
    }
  ]
}